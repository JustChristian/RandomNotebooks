{
 "cells": [
  {
   "cell_type": "code",
   "execution_count": 12,
   "metadata": {},
   "outputs": [],
   "source": [
    "%matplotlib inline"
   ]
  },
  {
   "cell_type": "code",
   "execution_count": 13,
   "metadata": {},
   "outputs": [],
   "source": [
    "import numpy\n",
    "import math\n",
    "import matplotlib\n",
    "import matplotlib.pyplot as plt"
   ]
  },
  {
   "cell_type": "code",
   "execution_count": 14,
   "metadata": {},
   "outputs": [],
   "source": [
    "#Squared Error aka Cost function aka error\n",
    "def squared_error(output, target):\n",
    "    return (output - target)**2\n",
    "\n",
    "def squared_error_derivative(output, target):\n",
    "    return 2 * (output - target)\n",
    "\n",
    "#Slope of cost function has the sign that is used to determine if a value should be going up or down\n",
    "#NOTE: It's not uncommon to multiple squared_error by 0.5 so the derivate doesnt contain the multiplcation by 2 because it cancels out\n",
    "\n",
    "def sigmoid(x):\n",
    "    return 1/(1 + math.exp(-x))\n",
    "\n",
    "def sigmoid_derivative(s):\n",
    "    return s * (1 - s)"
   ]
  },
  {
   "cell_type": "code",
   "execution_count": 15,
   "metadata": {},
   "outputs": [
    {
     "name": "stdout",
     "output_type": "stream",
     "text": [
      "5.6\n",
      "5.279999999999999\n",
      "5.023999999999999\n",
      "4.8191999999999995\n",
      "4.65536\n",
      "4.524288\n",
      "4.4194304\n",
      "4.33554432\n",
      "4.268435456000001\n",
      "4.2147483648\n",
      "4.17179869184\n"
     ]
    }
   ],
   "source": [
    "#Show's how a number when using the slope of an error function is dragged towards the target\n",
    "#As it gets closer the slope decreases and it take tinier steps\n",
    "x = 5.6\n",
    "print(x)\n",
    "target = 4.0\n",
    "for i in range(10):\n",
    "    x = x - .1 * squared_error_derivative(x, target)\n",
    "    print(x)"
   ]
  },
  {
   "cell_type": "code",
   "execution_count": 16,
   "metadata": {},
   "outputs": [],
   "source": [
    "def NN(m1, m2, w1, w2, b):\n",
    "    x = m1 * w1 + m2 * w2 + b\n",
    "    sigmoid(z)"
   ]
  },
  {
   "cell_type": "code",
   "execution_count": null,
   "metadata": {},
   "outputs": [],
   "source": []
  }
 ],
 "metadata": {
  "kernelspec": {
   "display_name": "Python 3",
   "language": "python",
   "name": "python3"
  },
  "language_info": {
   "codemirror_mode": {
    "name": "ipython",
    "version": 3
   },
   "file_extension": ".py",
   "mimetype": "text/x-python",
   "name": "python",
   "nbconvert_exporter": "python",
   "pygments_lexer": "ipython3",
   "version": "3.6.5"
  }
 },
 "nbformat": 4,
 "nbformat_minor": 2
}
