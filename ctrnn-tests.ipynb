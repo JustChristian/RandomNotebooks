{
 "cells": [
  {
   "cell_type": "code",
   "execution_count": 1,
   "metadata": {},
   "outputs": [],
   "source": [
    "\"\"\"#Takes the rate of 'loss' of a line, it's current value, and its input and finds an approx of the slope\n",
    "def leaky_integrator(A, x, C):\n",
    "    return (-A) * x + C\n",
    "\n",
    "#Returns an approximation of the value of a lone after time \"time_step\"\n",
    "def forward_euler_method(time_step, slope, value):\n",
    "    return value + time_step * slope\"\"\"\n",
    "\n",
    "class ContinuousNeuron(object):\n",
    "    def __init__(self, weights=[], bias=0, tau=1, index=0):\n",
    "        self.weights = weights\n",
    "        self.bias = bias\n",
    "        self.tau = tau\n",
    "        self.input = 0\n",
    "        self.state = 0\n",
    "        self.output = 0.0\n",
    "        self.index = index\n",
    "        \n",
    "    @property\n",
    "    def tau(self):\n",
    "        return self.__tau\n",
    "    \n",
    "    @tau.setter\n",
    "    def tau(self, x):\n",
    "        self.__tau = x\n",
    "        self.leak_rate = 1 / self.__tau\n",
    "        \n",
    "    def get_output(self, neuron_outputs, step_size):\n",
    "        #input from previous neurons\n",
    "        input_sum = self.input\n",
    "        for i in range(len(self.weights)):\n",
    "            input_sum += neuron_outputs[i] * self.weights[i]\n",
    "        ###+ sum([neuron_outputs[i] * self.weights[i] for i in range(len(self.weights))])\n",
    "        \n",
    "        x = step_size * self.leak_rate\n",
    "        self.state += x * (input_sum - self.state)\n",
    "        self.output = sigmoid(self.state + self.bias)\n",
    "        return self.output"
   ]
  },
  {
   "cell_type": "code",
   "execution_count": 2,
   "metadata": {},
   "outputs": [
    {
     "ename": "NameError",
     "evalue": "name 'sigmoid' is not defined",
     "output_type": "error",
     "traceback": [
      "\u001b[0;31m---------------------------------------------------------------------------\u001b[0m",
      "\u001b[0;31mNameError\u001b[0m                                 Traceback (most recent call last)",
      "\u001b[0;32m<ipython-input-2-a6a95b60caec>\u001b[0m in \u001b[0;36m<module>\u001b[0;34m\u001b[0m\n\u001b[1;32m      6\u001b[0m \u001b[0;31m#Make graph look better\u001b[0m\u001b[0;34m\u001b[0m\u001b[0;34m\u001b[0m\u001b[0m\n\u001b[1;32m      7\u001b[0m \u001b[0mx\u001b[0m\u001b[0;34m.\u001b[0m\u001b[0mappend\u001b[0m\u001b[0;34m(\u001b[0m\u001b[0;36m0\u001b[0m\u001b[0;34m)\u001b[0m\u001b[0;34m\u001b[0m\u001b[0m\n\u001b[0;32m----> 8\u001b[0;31m \u001b[0my\u001b[0m\u001b[0;34m.\u001b[0m\u001b[0mappend\u001b[0m\u001b[0;34m(\u001b[0m\u001b[0mneuron\u001b[0m\u001b[0;34m.\u001b[0m\u001b[0mget_output\u001b[0m\u001b[0;34m(\u001b[0m\u001b[0;34m[\u001b[0m\u001b[0;36m0.0\u001b[0m\u001b[0;34m]\u001b[0m\u001b[0;34m,\u001b[0m \u001b[0;36m1\u001b[0m\u001b[0;34m)\u001b[0m\u001b[0;34m)\u001b[0m\u001b[0;34m\u001b[0m\u001b[0m\n\u001b[0m\u001b[1;32m      9\u001b[0m \u001b[0;34m\u001b[0m\u001b[0m\n\u001b[1;32m     10\u001b[0m \u001b[0mneuron\u001b[0m\u001b[0;34m.\u001b[0m\u001b[0minput\u001b[0m \u001b[0;34m=\u001b[0m \u001b[0;36m1000\u001b[0m \u001b[0;31m#Set external input before getting output, for an initial input\u001b[0m\u001b[0;34m\u001b[0m\u001b[0m\n",
      "\u001b[0;32m<ipython-input-1-119853e5eebd>\u001b[0m in \u001b[0;36mget_output\u001b[0;34m(self, neuron_outputs, step_size)\u001b[0m\n\u001b[1;32m     35\u001b[0m         \u001b[0mx\u001b[0m \u001b[0;34m=\u001b[0m \u001b[0mstep_size\u001b[0m \u001b[0;34m*\u001b[0m \u001b[0mself\u001b[0m\u001b[0;34m.\u001b[0m\u001b[0mleak_rate\u001b[0m\u001b[0;34m\u001b[0m\u001b[0m\n\u001b[1;32m     36\u001b[0m         \u001b[0mself\u001b[0m\u001b[0;34m.\u001b[0m\u001b[0mstate\u001b[0m \u001b[0;34m+=\u001b[0m \u001b[0mx\u001b[0m \u001b[0;34m*\u001b[0m \u001b[0;34m(\u001b[0m\u001b[0minput_sum\u001b[0m \u001b[0;34m-\u001b[0m \u001b[0mself\u001b[0m\u001b[0;34m.\u001b[0m\u001b[0mstate\u001b[0m\u001b[0;34m)\u001b[0m\u001b[0;34m\u001b[0m\u001b[0m\n\u001b[0;32m---> 37\u001b[0;31m         \u001b[0mself\u001b[0m\u001b[0;34m.\u001b[0m\u001b[0moutput\u001b[0m \u001b[0;34m=\u001b[0m \u001b[0msigmoid\u001b[0m\u001b[0;34m(\u001b[0m\u001b[0mself\u001b[0m\u001b[0;34m.\u001b[0m\u001b[0mstate\u001b[0m \u001b[0;34m+\u001b[0m \u001b[0mself\u001b[0m\u001b[0;34m.\u001b[0m\u001b[0mbias\u001b[0m\u001b[0;34m)\u001b[0m\u001b[0;34m\u001b[0m\u001b[0m\n\u001b[0m\u001b[1;32m     38\u001b[0m         \u001b[0;32mreturn\u001b[0m \u001b[0mself\u001b[0m\u001b[0;34m.\u001b[0m\u001b[0moutput\u001b[0m\u001b[0;34m\u001b[0m\u001b[0m\n",
      "\u001b[0;31mNameError\u001b[0m: name 'sigmoid' is not defined"
     ]
    }
   ],
   "source": [
    "neuron = ContinuousNeuron([0.0], tau=9.5, index=0)\n",
    "\n",
    "x = []\n",
    "y = []\n",
    "\n",
    "#Make graph look better\n",
    "x.append(0)\n",
    "y.append(neuron.get_output([0.0], 1))\n",
    "\n",
    "neuron.input = 1000 #Set external input before getting output, for an initial input\n",
    "\n",
    "for i in range(0, 14):\n",
    "    neuron.get_output([0.0], 1)\n",
    "    x.append(i)\n",
    "    y.append(neuron.state)\n",
    "    \n",
    "    #Set the input back to 0, so that the initial input is the only input\n",
    "    neuron.input = 0\n",
    "    \n",
    "plt.plot(x,y)"
   ]
  },
  {
   "cell_type": "code",
   "execution_count": null,
   "metadata": {},
   "outputs": [],
   "source": []
  }
 ],
 "metadata": {
  "kernelspec": {
   "display_name": "Python 3",
   "language": "python",
   "name": "python3"
  },
  "language_info": {
   "codemirror_mode": {
    "name": "ipython",
    "version": 3
   },
   "file_extension": ".py",
   "mimetype": "text/x-python",
   "name": "python",
   "nbconvert_exporter": "python",
   "pygments_lexer": "ipython3",
   "version": "3.6.5"
  }
 },
 "nbformat": 4,
 "nbformat_minor": 2
}
