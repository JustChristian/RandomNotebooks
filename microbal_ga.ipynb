{
 "cells": [
  {
   "cell_type": "code",
   "execution_count": 15,
   "metadata": {},
   "outputs": [],
   "source": [
    "import random\n",
    "import matplotlib.pyplot as plt"
   ]
  },
  {
   "cell_type": "code",
   "execution_count": 10,
   "metadata": {},
   "outputs": [],
   "source": [
    "\"\"\"\n",
    "    For each cycle,\n",
    "        - select 2 random individuals from population\n",
    "        - have them compete\n",
    "        - 'infection' - insert dna into the loser from the winner\n",
    "\"\"\"\n",
    "class TournamentPopulation(object):\n",
    "    def __init__(self, individual_class, population_size=100, infection_perc=0.5, mutation_prob=0.02):\n",
    "        self.infection_perc = infection_perc\n",
    "        self.mutation_prob = mutation_prob\n",
    "        \n",
    "        #Build a randomly generated population\n",
    "        self.population = [individual_class() for i in range(population_size)]\n",
    "        \n",
    "        #Get the highest performing individual\n",
    "        self.highest_fitness_individual = sorted(self.population, key=lambda individual: individual.fitness())[-1]\n",
    "        self.highest_fitness = self.highest_fitness_individual.fitness()\n",
    "        \n",
    "        \n",
    "    def reproduction(self, parents):\n",
    "        parents = sorted(parents, key=lambda individual: individual.fitness())\n",
    "        winner = parents[1]\n",
    "        loser = parents[0]\n",
    "        \n",
    "        #'infect' the loser of the tournament, the winner should be championed through without changes\n",
    "        loser.infect(winner, self.infection_perc)\n",
    "        loser.mutate(self.mutation_prob)\n",
    "            \n",
    "        #Check if fitness of new individual is the highest so far\n",
    "        self.highest_fitness = max(self.highest_fitness, loser.fitness())\n",
    "            \n",
    "    #Pick 2 indices of population randomly\n",
    "    def selection(self):\n",
    "        return random.sample(self.population, 2)\n",
    "    \n",
    "    #Tournament style selection\n",
    "    def run_cycle(self):\n",
    "        parents = self.selection()\n",
    "        self.reproduction(parents)\n",
    "            \n"
   ]
  },
  {
   "cell_type": "code",
   "execution_count": 11,
   "metadata": {},
   "outputs": [],
   "source": [
    "\"\"\"class LinkedListIndividual(object):\n",
    "class BitArrayIndividual(object):\"\"\"\n",
    "\n",
    "class AbstractLinkedListIndividual(object):\n",
    "    #Infect this individual with parts of the genotype of another individual\n",
    "    def infect(self, infector, infection_perc):\n",
    "        if len(self.genotype) != len(infector.genotype):\n",
    "            raise ValueError(\"The genotypes of Individuals infecting should be the same size\")\n",
    "        \n",
    "        #Determine how many indices are replaced the infecting \n",
    "        infected_indices_count = round(len(self.genotype) * infection_perc)\n",
    "        \n",
    "        #Get the indices that are being replaced\n",
    "        infected_indices = random.sample(range(0, len(self.genotype)), infected_indices_count)\n",
    "        \n",
    "        #Replace the infected indexs with the same indexes from the infecting individual\n",
    "        for infected_index in infected_indices:\n",
    "            self.genotype[infected_index] = infector.genotype[infected_index]\n",
    "    \n",
    "    #How the genotype is encoded and fitness is implementation specific\n",
    "    def mutate(self, mutation_prob):\n",
    "        pass\n",
    "    \n",
    "    def fitness(self):\n",
    "        pass\n",
    "            \n",
    "class NumberIndividual(AbstractLinkedListIndividual):\n",
    "    def __init__(self, number_count=3):\n",
    "        self.genotype = [random.random() for i in range(number_count)]\n",
    "            \n",
    "    #Check if each gene in the genotype should be mutated\n",
    "    def mutate(self, mutation_prob):\n",
    "        for i in range(0, len(self.genotype)):\n",
    "            if random.random() <= mutation_prob:\n",
    "                self.genotype[i] = random.random()\n",
    "        \n",
    "    #Fitness is defined as the sum of all numbers this individual contains\n",
    "    def fitness(self):\n",
    "        return sum(self.genotype)"
   ]
  },
  {
   "cell_type": "code",
   "execution_count": 20,
   "metadata": {},
   "outputs": [
    {
     "data": {
      "application/vnd.jupyter.widget-view+json": {
       "model_id": "0ad4e932402e48cc8bb7b1f3cd4bcc88",
       "version_major": 2,
       "version_minor": 0
      },
      "text/plain": [
       "FigureCanvasNbAgg()"
      ]
     },
     "metadata": {},
     "output_type": "display_data"
    }
   ],
   "source": [
    "%matplotlib widget\n",
    "\n",
    "#Just a quick graph of that marks the best performing individual\n",
    "pop = TournamentPopulation(NumberIndividual)\n",
    "\n",
    "last_high = 0\n",
    "x = []\n",
    "y = []\n",
    "\n",
    "#Only marks the index at which a new best performing individual exists, this works because of free elitism\n",
    "for i in range(10000):\n",
    "    pop.run_cycle()\n",
    "    if last_high != pop.highest_fitness:\n",
    "        x.append(i)\n",
    "        y.append(pop.highest_fitness)\n",
    "        \n",
    "        last_high = pop.highest_fitness\n",
    "        \n",
    "plt.plot(x, y, 'ro')\n",
    "plt.show()"
   ]
  },
  {
   "cell_type": "code",
   "execution_count": null,
   "metadata": {},
   "outputs": [],
   "source": []
  }
 ],
 "metadata": {
  "kernelspec": {
   "display_name": "Python 3",
   "language": "python",
   "name": "python3"
  },
  "language_info": {
   "codemirror_mode": {
    "name": "ipython",
    "version": 3
   },
   "file_extension": ".py",
   "mimetype": "text/x-python",
   "name": "python",
   "nbconvert_exporter": "python",
   "pygments_lexer": "ipython3",
   "version": "3.6.5"
  }
 },
 "nbformat": 4,
 "nbformat_minor": 2
}
