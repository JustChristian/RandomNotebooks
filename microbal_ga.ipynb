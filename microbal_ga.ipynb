{
 "cells": [
  {
   "cell_type": "code",
   "execution_count": 27,
   "metadata": {},
   "outputs": [],
   "source": [
    "import matplotlib.pyplot as plt\n",
    "%matplotlib inline\n",
    "params = {\"ytick.color\" : \"w\",\n",
    "          \"xtick.color\" : \"w\",\n",
    "          \"axes.labelcolor\" : \"w\",\n",
    "          \"axes.edgecolor\" : \"w\"}\n",
    "plt.rcParams.update(params)"
   ]
  },
  {
   "cell_type": "code",
   "execution_count": 28,
   "metadata": {},
   "outputs": [],
   "source": [
    "from GA import *"
   ]
  },
  {
   "cell_type": "code",
   "execution_count": 29,
   "metadata": {},
   "outputs": [],
   "source": [
    "def makePopulationRunGraph(pop, runs):\n",
    "    last_high = 0\n",
    "    x = []\n",
    "    y = []\n",
    "\n",
    "    #Only marks the index at which a new best performing individual exists, this works because of free elitism\n",
    "    for i in range(runs):\n",
    "        pop.run_cycle()\n",
    "        if last_high != pop.highest_fitness:\n",
    "            x.append(i)\n",
    "            y.append(pop.highest_fitness)\n",
    "\n",
    "            last_high = pop.highest_fitness\n",
    "    return (x,y)"
   ]
  },
  {
   "cell_type": "code",
   "execution_count": 34,
   "metadata": {},
   "outputs": [
    {
     "data": {
      "image/png": "[encoded data removed]",
      "text/plain": [
       "<Figure size 432x288 with 1 Axes>"
      ]
     },
     "metadata": {
      "needs_background": "dark"
     },
     "output_type": "display_data"
    }
   ],
   "source": [
    "class NumberIndividual(AbstractLinkedListIndividual):\n",
    "    def __init__(self, number_count=3):\n",
    "        #Make genotype of n values between [0.0, 1.0)\n",
    "        self.genotype = [random.random() for i in range(number_count)]\n",
    "            \n",
    "    #Check if each gene in the genotype should be mutated\n",
    "    def mutate(self, mutation_rate):\n",
    "        for i in range(0, len(self.genotype)):\n",
    "            if random.random() <= mutation_rate:\n",
    "                self.genotype[i] = random.random()\n",
    "        \n",
    "    #Fitness is defined as the sum of all numbers this individual contains\n",
    "    def fitness(self):\n",
    "        return sum(self.genotype)\n",
    "\n",
    "#Just a quick graph of that marks the best performing individual\n",
    "numberVals = makePopulationRunGraph(TournamentPopulation(NumberIndividual), 10000)\n",
    "\n",
    "plt.title(\"Best performing per generation\")\n",
    "plt.plot(numberVals[0], numberVals[1], 'ro')\n",
    "plt.show()"
   ]
  },
  {
   "cell_type": "code",
   "execution_count": 35,
   "metadata": {},
   "outputs": [
    {
     "data": {
      "image/png": "[encoded data removed]",
      "text/plain": [
       "<Figure size 432x288 with 1 Axes>"
      ]
     },
     "metadata": {
      "needs_background": "dark"
     },
     "output_type": "display_data"
    }
   ],
   "source": [
    "class HalfBitIndividual(AbstractLinkedListIndividual):\n",
    "    def __init__(self, bit_count=250):\n",
    "        self.genotype = [random.randint(0,1) for i in range(bit_count)]\n",
    "        \n",
    "    def mutate(self, mutation_rate):\n",
    "        for i in range(0, len(self.genotype)):\n",
    "            if random.random() <= mutation_rate:\n",
    "                self.genotype[i] = random.randint(0,1)\n",
    "                \n",
    "    #Fitness is defined as the sum of the first half of the bits \n",
    "    #minus the sum of the second half of the bits\n",
    "    def fitness(self):\n",
    "        middle_index = int(len(self.genotype) / 2)\n",
    "        \n",
    "        first_half_sum = sum(self.genotype[0: middle_index])\n",
    "        second_half_sum = sum(self.genotype[middle_index: -1])\n",
    "        \n",
    "        return first_half_sum - second_half_sum\n",
    "    \n",
    "#Just a quick graph of that marks the best performing individual\n",
    "numberVals = makePopulationRunGraph(TournamentPopulation(HalfBitIndividual), 10000)\n",
    "\n",
    "plt.title(\"Best performing per generation\")\n",
    "plt.plot(numberVals[0], numberVals[1], 'ro')\n",
    "plt.show()"
   ]
  },
  {
   "cell_type": "code",
   "execution_count": 36,
   "metadata": {},
   "outputs": [
    {
     "data": {
      "image/png": "[encoded data removed]",
      "text/plain": [
       "<Figure size 432x288 with 1 Axes>"
      ]
     },
     "metadata": {
      "needs_background": "dark"
     },
     "output_type": "display_data"
    }
   ],
   "source": [
    "class FullBitIndividual(AbstractLinkedListIndividual):\n",
    "    def __init__(self, bit_count=250):\n",
    "        self.genotype = [random.randint(0,1) for i in range(bit_count)]\n",
    "        \n",
    "    def mutate(self, mutation_rate):\n",
    "        for i in range(0, len(self.genotype)):\n",
    "            if random.random() <= mutation_rate:\n",
    "                self.genotype[i] = random.randint(0,1)\n",
    "                \n",
    "    #Sum of all genotype so 1 are better than 0\n",
    "    def fitness(self):\n",
    "        return sum(self.genotype)\n",
    "\n",
    "#Just a quick graph of that marks the best performing individual\n",
    "numberVals = makePopulationRunGraph(TournamentPopulation(FullBitIndividual), 10000)\n",
    "\n",
    "plt.title(\"Best performing per generation\")\n",
    "plt.plot(numberVals[0], numberVals[1], 'ro')\n",
    "plt.show()"
   ]
  },
  {
   "cell_type": "code",
   "execution_count": null,
   "metadata": {},
   "outputs": [],
   "source": []
  }
 ],
 "metadata": {
  "kernelspec": {
   "display_name": "Python 3",
   "language": "python",
   "name": "python3"
  },
  "language_info": {
   "codemirror_mode": {
    "name": "ipython",
    "version": 3
   },
   "file_extension": ".py",
   "mimetype": "text/x-python",
   "name": "python",
   "nbconvert_exporter": "python",
   "pygments_lexer": "ipython3",
   "version": "3.6.5"
  }
 },
 "nbformat": 4,
 "nbformat_minor": 2
}
