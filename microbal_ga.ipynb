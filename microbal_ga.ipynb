{
 "cells": [
  {
   "cell_type": "code",
   "execution_count": 15,
   "metadata": {},
   "outputs": [],
   "source": [
    "import matplotlib.pyplot as plt\n",
    "%matplotlib inline\n",
    "\n",
    "#make pyplot text white\n",
    "params = {\"ytick.color\" : \"b\",\n",
    "          \"xtick.color\" : \"b\",\n",
    "          \"axes.labelcolor\" : \"b\",\n",
    "          \"axes.edgecolor\" : \"b\"}\n",
    "plt.rcParams.update(params)"
   ]
  },
  {
   "cell_type": "code",
   "execution_count": 16,
   "metadata": {},
   "outputs": [],
   "source": [
    "from GeneticAlgorithm import *"
   ]
  },
  {
   "cell_type": "code",
   "execution_count": 21,
   "metadata": {},
   "outputs": [],
   "source": [
    "\"\"\"\n",
    "Creates and shows a graph of all the highest fitnesses and when they first occured\n",
    "\n",
    "@param TournamentPopulation population\n",
    "@param integer runs - the number of generations that the genetic algorithm will be ran\n",
    "\"\"\"\n",
    "def makeBestPerformingGraph(population, runs):\n",
    "    last_high = 0\n",
    "    x = []\n",
    "    y = []\n",
    "\n",
    "    #Only marks the index at which a new best performing individual exists, this works because of free elitism\n",
    "    for i in range(runs):\n",
    "        population.run_cycle()\n",
    "        if last_high != population.highest_fitness:\n",
    "            x.append(i)\n",
    "            y.append(population.highest_fitness)\n",
    "\n",
    "            last_high = population.highest_fitness\n",
    "    plt.title(\"Best performing per generation\")\n",
    "    plt.plot(x, y, 'bo')\n",
    "    plt.show()\n",
    "    "
   ]
  },
  {
   "cell_type": "code",
   "execution_count": 22,
   "metadata": {},
   "outputs": [
    {
     "data": {
      "image/png": "[encoded data removed]",
      "text/plain": [
       "<Figure size 432x288 with 1 Axes>"
      ]
     },
     "metadata": {
      "needs_background": "light"
     },
     "output_type": "display_data"
    }
   ],
   "source": [
    "class NumberIndividual(AbstractLinkedListIndividual):\n",
    "    def __init__(self, number_count=3):\n",
    "        #Make genotype of n values between [0.0, 1.0)\n",
    "        self.genotype = [random.random() for i in range(number_count)]\n",
    "            \n",
    "    def mutate(self, mutation_rate):\n",
    "        for i in range(0, len(self.genotype)):\n",
    "            if random.random() <= mutation_rate:\n",
    "                self.genotype[i] = random.random()\n",
    "        \n",
    "    #Fitness is defined as the sum of all numbers this individual contains\n",
    "    def fitness(self):\n",
    "        return sum(self.genotype)\n",
    "\n",
    "#Just a quick graph of that marks the best performing individual\n",
    "makeBestPerformingGraph(TournamentPopulation(NumberIndividual, 100), 10000)"
   ]
  },
  {
   "cell_type": "code",
   "execution_count": 23,
   "metadata": {},
   "outputs": [
    {
     "data": {
      "image/png": "[encoded data removed]",
      "text/plain": [
       "<Figure size 432x288 with 1 Axes>"
      ]
     },
     "metadata": {
      "needs_background": "light"
     },
     "output_type": "display_data"
    }
   ],
   "source": [
    "class HalfBitIndividual(AbstractLinkedListIndividual):\n",
    "    def __init__(self, bit_count=250):\n",
    "        self.genotype = [random.randint(0,1) for i in range(bit_count)]\n",
    "        \n",
    "    def mutate(self, mutation_rate):\n",
    "        for i in range(0, len(self.genotype)):\n",
    "            if random.random() <= mutation_rate:\n",
    "                self.genotype[i] = random.randint(0,1)\n",
    "                \n",
    "    #Fitness is defined as the sum of the first half of the bits \n",
    "    #minus the sum of the second half of the bits\n",
    "    def fitness(self):\n",
    "        middle_index = int(len(self.genotype) / 2)\n",
    "        \n",
    "        first_half_sum = sum(self.genotype[0: middle_index])\n",
    "        second_half_sum = sum(self.genotype[middle_index: -1])\n",
    "        \n",
    "        return first_half_sum - second_half_sum\n",
    "    \n",
    "#Just a quick graph of that marks the best performing individual\n",
    "makeBestPerformingGraph(TournamentPopulation(HalfBitIndividual, 100), 10000)"
   ]
  },
  {
   "cell_type": "code",
   "execution_count": 24,
   "metadata": {},
   "outputs": [
    {
     "data": {
      "image/png": "[encoded data removed]",
      "text/plain": [
       "<Figure size 432x288 with 1 Axes>"
      ]
     },
     "metadata": {
      "needs_background": "light"
     },
     "output_type": "display_data"
    }
   ],
   "source": [
    "class FullBitIndividual(AbstractLinkedListIndividual):\n",
    "    def __init__(self, bit_count=250):\n",
    "        self.genotype = [random.randint(0,1) for i in range(bit_count)]\n",
    "        \n",
    "    def mutate(self, mutation_rate):\n",
    "        for i in range(0, len(self.genotype)):\n",
    "            if random.random() <= mutation_rate:\n",
    "                self.genotype[i] = random.randint(0,1)\n",
    "                \n",
    "    #Sum of all genotype\n",
    "    def fitness(self):\n",
    "        return sum(self.genotype)\n",
    "\n",
    "#Just a quick graph of that marks the best performing individual\n",
    "makeBestPerformingGraph(TournamentPopulation(FullBitIndividual, 100), 10000)"
   ]
  },
  {
   "cell_type": "code",
   "execution_count": null,
   "metadata": {},
   "outputs": [],
   "source": [
    "\n",
    "class BackPackIndividual(AbstractLinkedListIndividual):\n",
    "    def __init__(self, max_weight=20):\n",
    "        self.genotype = random.sample(items, 3)\n",
    "    \n",
    "    def mutate(self, mutation_rate):\n",
    "        pass\n",
    "    \n",
    "    #fitness is defined as \n",
    "    def fitness(self):\n",
    "        pass\n",
    "    \n",
    "#Just a quick graph of that marks the best performing individual\n",
    "makeBestPerformingGraph(TournamentPopulation(MNIST, 100), 10000)"
   ]
  }
 ],
 "metadata": {
  "kernelspec": {
   "display_name": "Python 3",
   "language": "python",
   "name": "python3"
  },
  "language_info": {
   "codemirror_mode": {
    "name": "ipython",
    "version": 3
   },
   "file_extension": ".py",
   "mimetype": "text/x-python",
   "name": "python",
   "nbconvert_exporter": "python",
   "pygments_lexer": "ipython3",
   "version": "3.6.5"
  }
 },
 "nbformat": 4,
 "nbformat_minor": 2
}
