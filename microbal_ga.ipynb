{
 "cells": [
  {
   "cell_type": "code",
   "execution_count": 40,
   "metadata": {},
   "outputs": [],
   "source": [
    "import random\n",
    "import matplotlib.pyplot as plt"
   ]
  },
  {
   "cell_type": "code",
   "execution_count": 70,
   "metadata": {},
   "outputs": [],
   "source": [
    "class TournamentPopulation(object):\n",
    "    def __init__(self, individual_class, population_size=100, infection_rate=0.5, mutation_prob=0.02, deme_size=5):\n",
    "        self.infection_rate = infection_rate\n",
    "        self.mutation_prob = mutation_prob\n",
    "        self.deme_size = deme_size\n",
    "        \n",
    "        #Build a randomly generated population\n",
    "        self.population = [individual_class() for i in range(population_size)]\n",
    "        \n",
    "        #Get the highest performing individual\n",
    "        self.highest_fitness_individual = sorted(self.population, key=lambda individual: individual.fitness())[-1]\n",
    "        self.highest_fitness = self.highest_fitness_individual.fitness()\n",
    "        \n",
    "        \n",
    "    #Tournament selection with two parents, and microbial infection based reproduction\n",
    "    def reproduction(self, parents):\n",
    "        parents = sorted(parents, key=lambda individual: individual.fitness())\n",
    "        winner = parents[1]\n",
    "        loser = parents[0]\n",
    "        \n",
    "        #'infect' the loser of the tournament, the winner should be championed through without changes\n",
    "        loser.infect(winner, self.infection_rate)\n",
    "        loser.mutate(self.mutation_prob)\n",
    "            \n",
    "        #Check if fitness of new individual is the highest so far\n",
    "        new_individual_fitness = loser.fitness()\n",
    "        if self.highest_fitness < new_individual_fitness:\n",
    "            self.highest_fitness = new_individual_fitness\n",
    "            self.highest_fitness_individual = loser\n",
    "            \n",
    "    #Pick 2 indices of population randomly, with trivial geography\n",
    "    def selection(self):\n",
    "        #Select the first parent randomly from the entire population\n",
    "        first_parent_index = random.randint(0, len(self.population)-1)\n",
    "        first_parent = self.population[first_parent_index]\n",
    "        \n",
    "        #Select the second parent from a deme or subset of the population starting after the first parent\n",
    "        second_parent_offset = random.randint(0, self.deme_size)\n",
    "        second_parent_index = (first_parent_index + second_parent_offset - 1) % len(self.population)\n",
    "        second_parent = self.population[second_parent_index]\n",
    "        \n",
    "        return [first_parent, second_parent]\n",
    "    \n",
    "    \n",
    "    def run_cycle(self):\n",
    "        parents = self.selection()\n",
    "        self.reproduction(parents)\n",
    "            \n"
   ]
  },
  {
   "cell_type": "code",
   "execution_count": 71,
   "metadata": {},
   "outputs": [],
   "source": [
    "#TODO?: class AbstractBitArrayIndividual(object):\n",
    "\n",
    "class AbstractLinkedListIndividual(object):\n",
    "    #Infect this individual with parts of the genotype of another individual\n",
    "    def infect(self, infector, infection_perc):\n",
    "        if len(self.genotype) != len(infector.genotype):\n",
    "            raise ValueError(\"The genotype of the infecting individual should be the same size\")\n",
    "        \n",
    "        #Determine how many indices are replaced the infecting \n",
    "        infected_indices_count = round(len(self.genotype) * infection_perc)\n",
    "        \n",
    "        #Get the indices that are being replaced\n",
    "        infected_indices = random.sample(range(0, len(self.genotype)), infected_indices_count)\n",
    "        \n",
    "        #Replace the infected indexs with the same indexes from the infecting individual\n",
    "        for infected_index in infected_indices:\n",
    "            self.genotype[infected_index] = infector.genotype[infected_index]\n",
    "    \n",
    "    #How the genotype is encoded and fitness is implementation specific\n",
    "    def mutate(self, mutation_rate):\n",
    "        pass\n",
    "    \n",
    "    def fitness(self):\n",
    "        pass\n",
    "            \n",
    "class NumberIndividual(AbstractLinkedListIndividual):\n",
    "    def __init__(self, number_count=3):\n",
    "        #Make genotype of n values between [0.0, 1.0)\n",
    "        self.genotype = [random.random() for i in range(number_count)]\n",
    "            \n",
    "    #Check if each gene in the genotype should be mutated\n",
    "    def mutate(self, mutation_rate):\n",
    "        for i in range(0, len(self.genotype)):\n",
    "            if random.random() <= mutation_rate:\n",
    "                self.genotype[i] = random.random()\n",
    "        \n",
    "    #Fitness is defined as the sum of all numbers this individual contains\n",
    "    def fitness(self):\n",
    "        return sum(self.genotype)\n",
    "    \n",
    "class BitIndividual(AbstractLinkedListIndividual):\n",
    "    def __init__(self, bit_count=250):\n",
    "        self.genotype = [random.randint(0,1) for i in range(bit_count)]\n",
    "        \n",
    "    def mutate(self, mutation_rate):\n",
    "        for i in range(0, len(self.genotype)):\n",
    "            if random.random() <= mutation_rate:\n",
    "                self.genotype[i] = random.randint(0,1)\n",
    "                \n",
    "    #Fitness is defined as the sum of the first half of the bits \n",
    "    #minus the sum of the second half of the bits\n",
    "    def fitness(self):\n",
    "        middle_index = int(len(self.genotype) / 2)\n",
    "        \n",
    "        first_half_sum = sum(self.genotype[0: middle_index])\n",
    "        second_half_sum = sum(self.genotype[middle_index: -1])\n",
    "        \n",
    "        return first_half_sum - second_half_sum"
   ]
  },
  {
   "cell_type": "code",
   "execution_count": 72,
   "metadata": {},
   "outputs": [
    {
     "data": {
      "application/vnd.jupyter.widget-view+json": {
       "model_id": "73733fe56d12429ea462e8475cbff8b3",
       "version_major": 2,
       "version_minor": 0
      },
      "text/plain": [
       "FigureCanvasNbAgg()"
      ]
     },
     "metadata": {},
     "output_type": "display_data"
    }
   ],
   "source": [
    "%matplotlib widget\n",
    "\n",
    "def makePopulationRunGraph(pop, runs):\n",
    "    last_high = 0\n",
    "    x = []\n",
    "    y = []\n",
    "\n",
    "    #Only marks the index at which a new best performing individual exists, this works because of free elitism\n",
    "    for i in range(runs):\n",
    "        pop.run_cycle()\n",
    "        if last_high != pop.highest_fitness:\n",
    "            x.append(i)\n",
    "            y.append(pop.highest_fitness)\n",
    "\n",
    "            last_high = pop.highest_fitness\n",
    "    return (x,y)\n",
    "    \n",
    "#Just a quick graph of that marks the best performing individual\n",
    "numberVals = makePopulationRunGraph(TournamentPopulation(NumberIndividual), 10000)\n",
    "\n",
    "plt.plot(numberVals[0], numberVals[1], 'ro')\n",
    "plt.show()"
   ]
  },
  {
   "cell_type": "code",
   "execution_count": null,
   "metadata": {},
   "outputs": [],
   "source": []
  }
 ],
 "metadata": {
  "kernelspec": {
   "display_name": "Python 3",
   "language": "python",
   "name": "python3"
  },
  "language_info": {
   "codemirror_mode": {
    "name": "ipython",
    "version": 3
   },
   "file_extension": ".py",
   "mimetype": "text/x-python",
   "name": "python",
   "nbconvert_exporter": "python",
   "pygments_lexer": "ipython3",
   "version": "3.6.5"
  }
 },
 "nbformat": 4,
 "nbformat_minor": 2
}
