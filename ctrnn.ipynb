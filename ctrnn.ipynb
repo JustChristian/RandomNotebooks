{
 "cells": [
  {
   "cell_type": "code",
   "execution_count": 1,
   "metadata": {},
   "outputs": [],
   "source": [
    "#w_ji connections\n",
    "#i is the current neuron\n",
    "#j is the other neuron"
   ]
  },
  {
   "cell_type": "code",
   "execution_count": 2,
   "metadata": {},
   "outputs": [],
   "source": [
    "import random\n",
    "import math\n",
    "from tqdm import tqdm_notebook\n",
    "import itertools\n",
    "from GeneticAlgorithm import *\n",
    "from ctrnn import *\n",
    "from tqdm import tqdm_notebook\n",
    "\n",
    "import matplotlib.pyplot as plt\n",
    "import matplotlib\n",
    "%matplotlib inline\n",
    "\n",
    "plt.style.use(\"dark_background\")"
   ]
  },
  {
   "cell_type": "code",
   "execution_count": 3,
   "metadata": {},
   "outputs": [],
   "source": [
    "def getRandomWeight():\n",
    "    return random.uniform(-15, 15)\n",
    "\n",
    "def getRandomBias():\n",
    "    return random.uniform(-15, 15)\n",
    "\n",
    "def getRandomTau():\n",
    "    return random.uniform(0.1, 1)\n",
    "\n",
    "def getRandomState():\n",
    "    return random.uniform(-5, 5)\n",
    "\n",
    "#make the individual\n",
    "class NetworkIndividual(AbstractLinkedListIndividual):\n",
    "    def __init__(self, neuron_count = 5):\n",
    "        self.genotype = []\n",
    "        self.encode_network(neuron_count)\n",
    "        \n",
    "    def encode_network(self, neuron_count):\n",
    "        self.neuron_count = neuron_count\n",
    "        \n",
    "        #bias\n",
    "        bias_ls = [getRandomBias() for i in range(self.neuron_count)]\n",
    "        #tau\n",
    "        tau_ls = [getRandomTau() for i in range(self.neuron_count)]\n",
    "        #states\n",
    "        state_ls = [getRandomState() for i in range(self.neuron_count)]\n",
    "        #weights\n",
    "        weight_ls = [getRandomWeight() for i in range(self.neuron_count * self.neuron_count)]\n",
    "            \n",
    "        #genotypeItertool = itertools.chain([self.neuron_count], bias_ls, tau_ls, state_ls, weight_ls)\n",
    "        #self.genotype = list(genotypeItertool)\n",
    "        self.genotype = [self.neuron_count]\n",
    "        self.genotype.extend(bias_ls)\n",
    "        self.genotype.extend(tau_ls)\n",
    "        self.genotype.extend(state_ls)\n",
    "        self.genotype.extend(weight_ls)\n",
    "        \n",
    "    def mutate(self, mutation_rate):\n",
    "        \n",
    "        bias_offset = 1\n",
    "        tau_offset = bias_offset + self.neuron_count\n",
    "        state_offset = tau_offset + self.neuron_count\n",
    "        weight_offset = state_offset + self.neuron_count\n",
    "        \n",
    "        #Skip over the neuron_count in genome\n",
    "        #TODO: Change this to use the new mutation that is less like random search\n",
    "        for i in range(bias_offset, len(self.genotype)):\n",
    "            if random.random() < mutation_rate:\n",
    "                if i >= weight_offset:\n",
    "                    self.genotype[i] = getRandomWeight()\n",
    "                elif i >= state_offset:\n",
    "                    self.genotype[i] = getRandomState()\n",
    "                elif i >= tau_offset:\n",
    "                    self.genotype[i] = getRandomTau()\n",
    "                elif i >= bias_offset:\n",
    "                    self.genotype[i] = getRandomBias()"
   ]
  },
  {
   "cell_type": "code",
   "execution_count": 4,
   "metadata": {},
   "outputs": [],
   "source": [
    "#make the individual\n",
    "class OscillatingNetworkIndividual(NetworkIndividual):\n",
    "    def __init__(self, neuron_count = 3):\n",
    "        self.genotype = []\n",
    "        self.encode_network(neuron_count)\n",
    "    \n",
    "    def fitness(self):\n",
    "        n = FullyConnectedCTRNN.create_network(self.genotype)\n",
    "        \n",
    "        abs_slope_totals = [0.0 for i in range(len(n.neurons))]\n",
    "        last_output = []\n",
    "        \n",
    "        step_size = 0.1\n",
    "        step_count = 15\n",
    "        outputs = [n.euler_step(None, step_size) for i in range(step_count)]\n",
    "        \n",
    "        for i in range(1, len(outputs)):\n",
    "            #Sum of total changes in slopes\n",
    "            for j in range(len(n.neurons)):\n",
    "                slope = outputs[i-1][j] - outputs[i][j]\n",
    "                abs_slope_totals[j] += abs(slope)\n",
    "        \n",
    "        #Use slope totals to determine if neuron should be oscillating\n",
    "        output = 0.0\n",
    "        #A neuron that has a total slope of 500% of the x distance traversed is considered oscillating, partial credit is received\n",
    "        for abs_slope_total in abs_slope_totals:\n",
    "            output += min(abs_slope_total / (2 * step_count * step_size), 1.0) #Max is 1.0\n",
    "            #print(\"fitness a:\", fitness)\n",
    "        output /= len(n.neurons) #Make each neuron only worth part of the fitness\n",
    "        #print(\"fitness b:\", fitness)\n",
    "        return output #normalizze fitness out of [0, 1.0]"
   ]
  },
  {
   "cell_type": "code",
   "execution_count": 5,
   "metadata": {},
   "outputs": [],
   "source": [
    "#A helping funciton for graphing highest performing individual of a population\n",
    "def graph_highest_fitness(pop, gen_count):\n",
    "    test_network = FullyConnectedCTRNN.create_network(pop.fittest_individual.genotype)\n",
    "    print(\"weights: [\")\n",
    "    for neuron in test_network.neurons:\n",
    "        print(\"\\t\", neuron.weights)\n",
    "    print(\"]\")\n",
    "    print(\"taus:\", [neuron.tau for neuron in test_network.neurons])\n",
    "    print(\"bias:\", [neuron.bias for neuron in test_network.neurons])\n",
    "    \n",
    "    x = []\n",
    "    y = []\n",
    "    \n",
    "    time_step = 0.1\n",
    "    step_count = 15\n",
    "    for i in range(step_count):\n",
    "        x.append(time_step * i)\n",
    "        y.append(test_network.euler_step(None, time_step))\n",
    "\n",
    "    #Plot output of each neuron\n",
    "    plt.title(\"Output of neurons\")\n",
    "    plt.plot(x, y, '-')\n",
    "    plt.ylim(0.0, 1.1)\n",
    "    plt.ylabel(\"output\")\n",
    "    plt.xlabel(\"time step\")\n",
    "    plt.show()\n",
    "    \n",
    "    #Highest performing over time plot\n",
    "    #plt.title(\"Best performing per generation\")\n",
    "    #for point in pop.best_performing_per_generation:\n",
    "    plt.title(\"Best performing per generation\")\n",
    "    plt.plot(*zip(*pop.best_performing_per_generation), '.', markersize=12)\n",
    "    plt.xlim(0, gen_count)\n",
    "    plt.ylim(0, 1.1)\n",
    "    plt.ylabel(\"fitness\")\n",
    "    plt.xlabel(\"generation\")\n",
    "    plt.show()\n",
    "    \n",
    "    print(\"\\n\\n\\n\\n\\n\")"
   ]
  },
  {
   "cell_type": "code",
   "execution_count": null,
   "metadata": {},
   "outputs": [
    {
     "data": {
      "application/vnd.jupyter.widget-view+json": {
       "model_id": "826a82f12c8b43afbdcbcef4c888e1df",
       "version_major": 2,
       "version_minor": 0
      },
      "text/plain": [
       "HBox(children=(IntProgress(value=0, max=20), HTML(value='')))"
      ]
     },
     "metadata": {},
     "output_type": "display_data"
    }
   ],
   "source": [
    "# %%prun -s cumulative -q -l 10 -T prun4\n",
    "\n",
    "#Generates 20 seperate populations, and runs reproduction 3000 times on each\n",
    "population_size = 100\n",
    "gen_count = 3000\n",
    "\n",
    "population_count = 20\n",
    "populations = [TournamentPopulation(OscillatingNetworkIndividual, population_size) for i in range(population_count)]\n",
    "for i in tqdm_notebook(range(len(populations))):\n",
    "    pop = populations[i]\n",
    "    for gen in range(gen_count):\n",
    "        pop.run_cycle(gen=gen)"
   ]
  },
  {
   "cell_type": "code",
   "execution_count": null,
   "metadata": {},
   "outputs": [],
   "source": [
    "#Sorts and graphs the 5 best performing\n",
    "\n",
    "print(\"Top 5 performing\")\n",
    "#Sort populations by fitness\n",
    "sorted_populations = sorted(populations, key=lambda pop: pop.fittest_individual.fitness() , reverse=True)\n",
    "#Print top 5 populations? Not sure what to do if multi get perfect points\n",
    "for pop in sorted_populations[0:5]:\n",
    "    graph_highest_fitness(pop, gen_count)\n",
    "    #print(pop.highest_fitness, \"==\", pop.fittest_individual.fitness())"
   ]
  },
  {
   "cell_type": "code",
   "execution_count": null,
   "metadata": {},
   "outputs": [],
   "source": [
    "#Prints \"worst\" performing\n",
    "worst_pop = sorted_populations[-1]\n",
    "graph_highest_fitness(worst_pop, gen_count)"
   ]
  },
  {
   "cell_type": "code",
   "execution_count": null,
   "metadata": {},
   "outputs": [],
   "source": [
    "print(\"Runs for\", gen_count, \"reproductions/mutations aka generations\")\n",
    "print(\"Base population contains\", population_size, \"individuals\")\n",
    "print(\"Initial populations built with weights [-15,15], biases [-15,15], taus [0.1, 1], and states [-5, 5]\")\n",
    "print(\"Created 20 seperate populations\")\n",
    "print(\"Fitness is in the range of [0.0, 1.0]\")"
   ]
  },
  {
   "cell_type": "code",
   "execution_count": null,
   "metadata": {},
   "outputs": [],
   "source": []
  }
 ],
 "metadata": {
  "kernelspec": {
   "display_name": "Python 3",
   "language": "python",
   "name": "python3"
  },
  "language_info": {
   "codemirror_mode": {
    "name": "ipython",
    "version": 3
   },
   "file_extension": ".py",
   "mimetype": "text/x-python",
   "name": "python",
   "nbconvert_exporter": "python",
   "pygments_lexer": "ipython3",
   "version": "3.6.5"
  }
 },
 "nbformat": 4,
 "nbformat_minor": 2
}
