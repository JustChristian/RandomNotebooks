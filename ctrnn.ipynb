{
 "cells": [
  {
   "cell_type": "markdown",
   "metadata": {},
   "source": [
    "ctrnn implemented and modeled as a system of ordinary differential equations, with neuron potentials as the dependent variables.\n",
    "\n",
    "The time evolution of the network is computed using the forward Euler method:\n",
    "\n",
    "Recurrent means that there are cycles in the neurons. This can be the output being used as an input at the next time step or... A->B and B->A coming back around."
   ]
  },
  {
   "cell_type": "code",
   "execution_count": 1,
   "metadata": {},
   "outputs": [],
   "source": [
    "import matplotlib.pyplot as plt\n",
    "%matplotlib inline\n",
    "\n",
    "#make pyplot text white\n",
    "params = {\"ytick.color\" : \"b\",\n",
    "          \"xtick.color\" : \"b\",\n",
    "          \"axes.labelcolor\" : \"b\",\n",
    "          \"axes.edgecolor\" : \"b\"}\n",
    "plt.rcParams.update(params)"
   ]
  },
  {
   "cell_type": "code",
   "execution_count": 2,
   "metadata": {},
   "outputs": [],
   "source": [
    "import random\n",
    "import math"
   ]
  },
  {
   "cell_type": "code",
   "execution_count": 38,
   "metadata": {},
   "outputs": [],
   "source": [
    "#A few helper functions representing a common activation function and its derivative\n",
    "def sigmoid(x):\n",
    "    if abs(x) > 100:\n",
    "        print(x)\n",
    "    return 1/(1 + math.exp(-x))\n",
    "\n",
    "def sigmoid_derivative(s):\n",
    "    return s * (1.0 - s)"
   ]
  },
  {
   "cell_type": "markdown",
   "metadata": {},
   "source": [
    "It's actually a term \"activation potential\" that is value plugged into the actiavation function\n",
    "1. If one does not want to ignore temporal summation, the sum of weighted inputs is used to drive a leaky RC tank circuit.\n",
    "2. The output of that tank device is passed to the output/transfer function\n",
    "3. https://en.wikipedia.org/wiki/Leaky_integrator\n",
    "4. y is apparently the \"activation_potential\" referred to as both activation and potential"
   ]
  },
  {
   "cell_type": "markdown",
   "metadata": {},
   "source": [
    "<h2>Leaky Integrator</h2>\n",
    "<a href=\"https://en.wikipedia.org/wiki/Leaky_integrator\">link</a>\n",
    "<p>\n",
    "    $\\frac{dx}{dt} = -Ax + C$<br>\n",
    "    where $A$ is a rate of 'leak' aka a time constant<br>\n",
    "    where $C$ is the input<br>\n",
    "    This gives the derivative<br>\n",
    "    The derivative is useful because it gives the slope for a given point and therefore allows you to compute the next value<br>\n",
    "</p>\n",
    "<hr>\n",
    "\n",
    "<h2>Applications of \"Leaky Integrator\" to Recursive Neurons</h2>\n",
    "<p>\n",
    "    $\\frac{dx}{dt} = -Ax + C$<br>\n",
    "    $\\frac{da(x)}{dt} = -(1/\\tau) * a(x) + \\sum^{N}_{i=1}{w_{ij}x_j(t)}$<br>\n",
    "    $-1/\\tau$ is the rate of 'leak'<br>\n",
    "    $a$ is the function to be derived<br>\n",
    "    $\\sum^{N}_{j=1}{w_{ij}x_j(t)}$ where j is the index of neurons from the previous layer, is the inputs for neuron i aka the \"weighted input sum\"\n",
    "</p>\n",
    "<hr>\n",
    "\n",
    "<h2>Euler's Forward Method</h2>\n",
    "<a href=\"http://fourier.eng.hmc.edu/e176/lectures/ch5/node3.html\">link</a>\n",
    "<p>\n",
    "    This is an application of \"Forward Euler's Method\"<br>\n",
    "    \"Forward Euler's Method\" finds the value of y after a given amount of time by taking steps along its slope<br>\n",
    "    use derivative $y`(t)$ at the beginning of the interval $[t,t+h]$ to approximate $\\Delta y = hy`(t)$<br>\n",
    "    $y(t+h) ~= y(t) + hy`(t)$ where h is the size of the time step<br>\n",
    "    This gives you an approximation of the value y at time t+h, but this value will only be accurate for smaller values of h<br>\n",
    "    Therefore it is good practice to use \"Euler's Forward Method\" for multiple iterations for small values of h if you want to find y for a larger time into the future.\n",
    "</p>\n",
    "<hr>\n",
    "\n",
    "<h2>Applying Euler's Forward Method to \"Leaky Integrator\" of Recursive Neuron</h2>\n",
    "<p>\n",
    "    $\\frac{da(t)}{dt} = -(1/\\tau) * a(t) + \\sum^{N}_{i=1}{w_{ij}x_j(t)}$ found using \"leaky integrator\"<br>\n",
    "    $a(t+h) ~= a(t) + h\\frac{da(t)}{dt}$ found using \"Euler's Forward Method\"<br>\n",
    "    $a(t+h) ~= a(t) + h*(-(1/\\tau) * a(t) + \\sum^{N}_{i=1}{w_{ij}x_j(t)})$<br>\n",
    "    I guess we're also willing to assume that $a(0) == 0$<br>\n",
    "    TODO: look further into this\n",
    "</p>\n",
    "<hr>\n",
    "\n",
    "<h2>Using output of neuron for time $t+h$</h2>\n",
    "<p>\n",
    "    $y_i(t) = \\Phi(a_i(t) - \\theta_i)$ where $\\Phi$ is the activation function and $\\theta_i$ is the bias of the nueron<br>\n",
    "    So we replace time $t$ with time $t+h$<br>\n",
    "    $y_i(t+h) = \\Phi(a_i(t+h) - \\theta_i)$ as you can see the $a(t+h)$ we defined above if now found here<br>\n",
    "    So we can just fill in the defintion we found above<br>\n",
    "    $a(t+h) ~= a(t) + h*(-(1/\\tau) * a(t) + \\sum^{N}_{i=1}{w_{ij}x_j(t)})$<br>\n",
    "    $y_i(t+h) = \\Phi(... - \\theta_i)$ where ... is the above line\n",
    "</p>"
   ]
  },
  {
   "cell_type": "code",
   "execution_count": 111,
   "metadata": {},
   "outputs": [],
   "source": [
    "#Takes the rate of 'loss' of a line, it's current value, and its input and finds an approx of the slope\n",
    "def leaky_integrator(A, x, C):\n",
    "    return (-A) * x + C\n",
    "\n",
    "#Returns an approximation of the value of a lone after time \"time_step\"\n",
    "def forward_euler_method(time_step, slope, value):\n",
    "    return value + time_step * slope\n",
    "\n",
    "class HopfieldRecurrentNeuron(object):\n",
    "    def __init__(self, input_count, tau=1.0, bias=0.0):\n",
    "        self.tau = tau #it's used later as 1/tau so higher values of tau causer more leakage\n",
    "        self.weights = [random.random() for i in range(input_count)]\n",
    "        self.prev_activation = 0 #assumed a(0) = 0\n",
    "        self.bias = bias\n",
    "    \n",
    "    @property\n",
    "    def tau(self):\n",
    "        return self.__tau\n",
    "    \n",
    "    @tau.setter\n",
    "    def tau(self, tau_val):\n",
    "        self.__tau = tau_val\n",
    "        self.leak_rate = 1 / tau_val #defines it upon updating the bias rather than each time it needs to be used\n",
    "    \n",
    "    def get_output(self, input_values, time_step=0.0):\n",
    "        input_sum = sum([self.weights[i] * input_values[i] for i in range(len(input_values))])\n",
    "        \n",
    "        activation_slope_approx = leaky_integrator(self.leak_rate, self.prev_activation, input_sum)\n",
    "        activation = forward_euler_method(time_step, activation_slope_approx, self.prev_activation)\n",
    "        \n",
    "        output = sigmoid(activation - self.bias)\n",
    "        \n",
    "        self.prev_activation = activation\n",
    "        return output"
   ]
  },
  {
   "cell_type": "code",
   "execution_count": 120,
   "metadata": {},
   "outputs": [
    {
     "name": "stdout",
     "output_type": "stream",
     "text": [
      "0.5\n"
     ]
    }
   ],
   "source": [
    "neuron = HopfieldRecurrentNeuron(1, 3, 0.0)\n",
    "for i in range(100):\n",
    "    print(neuron.get_output([0], 1))\n",
    "print(sigmoid(0))"
   ]
  },
  {
   "cell_type": "code",
   "execution_count": 112,
   "metadata": {},
   "outputs": [],
   "source": [
    "n = HopfieldRecurrentNeuron(1, 2.8, 2.0)"
   ]
  },
  {
   "cell_type": "code",
   "execution_count": 113,
   "metadata": {},
   "outputs": [
    {
     "data": {
      "text/plain": [
       "[<matplotlib.lines.Line2D at 0x7f6604299400>]"
      ]
     },
     "execution_count": 113,
     "metadata": {},
     "output_type": "execute_result"
    },
    {
     "data": {
      "image/png": "[encoded data removed]",
      "text/plain": [
       "<Figure size 432x288 with 1 Axes>"
      ]
     },
     "metadata": {
      "needs_background": "light"
     },
     "output_type": "display_data"
    }
   ],
   "source": [
    "#this is the graph the neural activation as time passes, when an input is only given as an instantenous input at t=0\n",
    "x = []\n",
    "y = []\n",
    "\n",
    "#This makes it look more like the graph from the book\n",
    "x.append(0)\n",
    "y.append(0)\n",
    "\n",
    "x.append(0)\n",
    "n.get_output([1], time_step=1)\n",
    "y.append(n.prev_activation)\n",
    "for i in range(15):\n",
    "    #print(n.test_input([0], time_step=1))\n",
    "    x.append(i+1)\n",
    "    n.get_output([0], time_step=1)\n",
    "    y.append(n.prev_activation)\n",
    "    \n",
    "plt.plot(x,y)\n",
    "#It approches 0 as the value goes on because the leak causes a slow degradation as no input is added"
   ]
  },
  {
   "cell_type": "code",
   "execution_count": 110,
   "metadata": {},
   "outputs": [],
   "source": [
    "class CTRNeuralNetwork(object):\n",
    "    def __init__(self, layer_size_ls):\n",
    "        #Create layers with inputs the size of the previous layers output count\n",
    "        self.layers = []\n",
    "        for i in range(1, len(layer_size_ls)):\n",
    "            layer_size = layer_size_ls[i]\n",
    "            prev_layer_size = layer_size_ls[i-1]\n",
    "            \n",
    "            #Each layer is represented by a list of neurons of a size with inputs large enough for the previous layer\n",
    "            self.layers.append([HopfieldRecurrentNeuron(prev_layer_size) for i in range(layer_size)]) \n",
    "    \n",
    "    def advance(self, inputs, time_step):\n",
    "        layer_output = inputs\n",
    "        for layer in self.layers:\n",
    "            layer_output = [neuron.get_output(layer_output, time_step=time_step) for neuron in layer]\n",
    "        return layer_output\n",
    "    \n",
    "    @staticmethod\n",
    "    def network_from_genome(genome, layer_size_ls):\n",
    "        #we're only going to evolve the network parameterers\n",
    "        #each set of 3 values in the genome is a neuron\n",
    "        n = CTRNeuralNetwork(layer_size_ls)\n",
    "        k = 0\n",
    "        for i in range(len(n.layers)):\n",
    "            layer = n.layers[i]\n",
    "            for j in range(len(layer)):\n",
    "                neuron = layer[j]\n",
    "                \n",
    "                neuron.bias = genome[k+0]\n",
    "                neuron.tau = genome[k+1]\n",
    "                neuron.weights = genome[k+2: k+2+len(neuron.weights)]\n",
    "                \n",
    "                \n",
    "                k += len(neuron.weights) + 2\n",
    "        \n",
    "        return n"
   ]
  },
  {
   "cell_type": "code",
   "execution_count": 84,
   "metadata": {},
   "outputs": [
    {
     "data": {
      "text/plain": [
       "'def print_best_performing(pop):\\n    hf = pop.highest_fitness_individual\\n    n = CTRNeuralNetwork.network_from_genome(hf.genotype, hf.layer_size_ls)\\n    print(n.advance([0,0,1,0,0,0], 0.1))    \\n    \\npop = TournamentPopulation(NetworkIndividual, 1000)\\n#pop.run_cycle()\\nprint(pop.highest_fitness_individual)\\nprint(pop.highest_fitness)\\nfor i in tqdm_notebook(range(100000)):\\n    if i % 1000 == 0:\\n        print_best_performing(pop)\\n    pop.run_cycle()\\n    \\nprint(pop.highest_fitness_individual)\\nprint(pop.highest_fitness)\\nprint_best_performing(pop)'"
      ]
     },
     "execution_count": 84,
     "metadata": {},
     "output_type": "execute_result"
    }
   ],
   "source": [
    "from GeneticAlgorithm import *\n",
    "from tqdm import tqdm_notebook\n",
    "\n",
    "#make the individual\n",
    "class NetworkIndividual(AbstractLinkedListIndividual):\n",
    "    def __init__(self):\n",
    "        self.layer_size_ls = [6, 5, 6] #All characters of alphabet as input and output\n",
    "        \n",
    "        #Encode neurons as a list of their values\n",
    "        self.genotype = []\n",
    "        for i in range(1, len(self.layer_size_ls)):\n",
    "            prev_layer_size = self.layer_size_ls[i-1]\n",
    "            layer_size = self.layer_size_ls[i]\n",
    "            \n",
    "            for i in range(layer_size):\n",
    "                self.genotype.append(random.random()) #bias\n",
    "                self.genotype.append(random.random() * 50) #tau\n",
    "                self.genotype.extend([random.random() for i in range(prev_layer_size)]) #weights for neuron_i\n",
    "                #Should be -1 + random.random()*2\n",
    "        \n",
    "    def mutate(self, mutation_rate):\n",
    "        for i in range(len(self.genotype)):\n",
    "            if random.random() < mutation_rate:\n",
    "                self.genotype[i] = random.random()\n",
    "    \n",
    "    def fitness(self):\n",
    "        n = CTRNeuralNetwork.network_from_genome(self.genotype, self.layer_size_ls)\n",
    "        sequence = [0, 1, 2, 3, 4, 5, 0, 1, 2, 3, 4, 5, 0]\n",
    "        max_val = max(sequence)\n",
    "        encoded_sequence = [[(j is value) for j in range(max_val+1)] for value in sequence]\n",
    "        \n",
    "        total_error = 0.0\n",
    "        for i in range(len(encoded_sequence)-1):\n",
    "            this_value = encoded_sequence[i]\n",
    "            next_value = encoded_sequence[i+1]\n",
    "            \n",
    "            output = n.advance(this_value, 0.0000001)\n",
    "            #Squared error\n",
    "            \n",
    "            total_error += sum((next_value[i]-output[i])**2 for i in range(len(output)))\n",
    "        \n",
    "        return -total_error #Uses a negative because this network is built to optimize for higher values\n",
    "            \n",
    "            \n",
    "    \n",
    "\"\"\"def print_best_performing(pop):\n",
    "    hf = pop.highest_fitness_individual\n",
    "    n = CTRNeuralNetwork.network_from_genome(hf.genotype, hf.layer_size_ls)\n",
    "    print(n.advance([0,0,1,0,0,0], 0.1))    \n",
    "    \n",
    "pop = TournamentPopulation(NetworkIndividual, 1000)\n",
    "#pop.run_cycle()\n",
    "print(pop.highest_fitness_individual)\n",
    "print(pop.highest_fitness)\n",
    "for i in tqdm_notebook(range(100000)):\n",
    "    if i % 1000 == 0:\n",
    "        print_best_performing(pop)\n",
    "    pop.run_cycle()\n",
    "    \n",
    "print(pop.highest_fitness_individual)\n",
    "print(pop.highest_fitness)\n",
    "print_best_performing(pop)\"\"\""
   ]
  },
  {
   "cell_type": "code",
   "execution_count": 85,
   "metadata": {},
   "outputs": [
    {
     "ename": "NameError",
     "evalue": "name 'hf' is not defined",
     "output_type": "error",
     "traceback": [
      "\u001b[0;31m---------------------------------------------------------------------------\u001b[0m",
      "\u001b[0;31mNameError\u001b[0m                                 Traceback (most recent call last)",
      "\u001b[0;32m<ipython-input-85-81862aa57aa3>\u001b[0m in \u001b[0;36m<module>\u001b[0;34m\u001b[0m\n\u001b[0;32m----> 1\u001b[0;31m \u001b[0mprint\u001b[0m\u001b[0;34m(\u001b[0m\u001b[0mhf\u001b[0m\u001b[0;34m.\u001b[0m\u001b[0mgenotype\u001b[0m\u001b[0;34m)\u001b[0m\u001b[0;34m\u001b[0m\u001b[0m\n\u001b[0m",
      "\u001b[0;31mNameError\u001b[0m: name 'hf' is not defined"
     ]
    }
   ],
   "source": [
    "print(hf.genotype)"
   ]
  },
  {
   "cell_type": "code",
   "execution_count": 86,
   "metadata": {},
   "outputs": [
    {
     "name": "stdout",
     "output_type": "stream",
     "text": [
      "0.3122191419848097\n",
      "-0.8974459244211797\n",
      "-0.42039929738767645\n",
      "-0.1283477663954602\n",
      "-0.5226340497459268\n",
      "0.4320927636193508\n",
      "0.33117694702578593\n",
      "-0.9769233407229452\n",
      "-0.7722902843288053\n",
      "-0.017723772742728183\n",
      "-0.7606029162851151\n",
      "0.869953178193416\n",
      "0.4462728035312773\n",
      "-0.5745037768614616\n",
      "0.4648293303490101\n",
      "0.252084862571867\n",
      "-0.9304779137802393\n",
      "-0.4149289141975836\n",
      "-0.6084998168529594\n",
      "0.5993832472209306\n"
     ]
    }
   ],
   "source": [
    "for i in range(20):\n",
    "    print(-1 + random.random()*2)"
   ]
  },
  {
   "cell_type": "code",
   "execution_count": 94,
   "metadata": {},
   "outputs": [
    {
     "name": "stdout",
     "output_type": "stream",
     "text": [
      "[0.42436377623451826]\n",
      "[0.42436377623451826]\n",
      "[0.42436377623451826]\n",
      "[0.42436377623451826]\n",
      "[0.42436377623451826]\n",
      "[0.4365732064532725]\n",
      "[0.4365732064532725]\n",
      "[0.42436377623451826]\n",
      "[0.42436377623451826]\n",
      "[0.42436377623451826]\n",
      "[0.42436377623451826]\n",
      "[0.42436377623451826]\n"
     ]
    }
   ],
   "source": [
    "n = CTRNeuralNetwork([2, 2, 1])\n",
    "n.layers[0][0].weights = [1, 1] #left hidden\n",
    "n.layers[0][0].bias = 0.5\n",
    "\n",
    "n.layers[0][1].weights = [-1, -1] #right hidden\n",
    "n.layers[0][1].bias = -1.5\n",
    "\n",
    "n.layers[1][0].weights = [1, 1] #output\n",
    "n.layers[1][0].bias = 1.5\n",
    "\n",
    "print(n.advance([0,0], 1))\n",
    "print(n.advance([0,0], 1))\n",
    "print(n.advance([0,0], 1))\n",
    "print(n.advance([0,0], 1))\n",
    "print(n.advance([0,0], 1))\n",
    "print(n.advance([0,1], 1))\n",
    "print(n.advance([1,0], 1))\n",
    "print(n.advance([1,1], 1))\n",
    "print(n.advance([1,1], 1))\n",
    "print(n.advance([1,1], 1))\n",
    "print(n.advance([1,1], 1))\n",
    "print(n.advance([1,1], 1))"
   ]
  },
  {
   "cell_type": "code",
   "execution_count": null,
   "metadata": {},
   "outputs": [],
   "source": []
  },
  {
   "cell_type": "code",
   "execution_count": null,
   "metadata": {},
   "outputs": [],
   "source": []
  },
  {
   "cell_type": "code",
   "execution_count": null,
   "metadata": {},
   "outputs": [],
   "source": []
  }
 ],
 "metadata": {
  "kernelspec": {
   "display_name": "Python 3",
   "language": "python",
   "name": "python3"
  },
  "language_info": {
   "codemirror_mode": {
    "name": "ipython",
    "version": 3
   },
   "file_extension": ".py",
   "mimetype": "text/x-python",
   "name": "python",
   "nbconvert_exporter": "python",
   "pygments_lexer": "ipython3",
   "version": "3.6.5"
  }
 },
 "nbformat": 4,
 "nbformat_minor": 2
}
